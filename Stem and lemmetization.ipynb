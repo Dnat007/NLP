{
 "cells": [
  {
   "cell_type": "code",
   "execution_count": 1,
   "id": "11059a8c",
   "metadata": {},
   "outputs": [],
   "source": [
    "import nltk\n",
    "# nltk.download()"
   ]
  },
  {
   "cell_type": "code",
   "execution_count": 2,
   "id": "ad90e03f",
   "metadata": {},
   "outputs": [],
   "source": [
    "paragraph = \"\"\" Data science is the field of applying advanced analytics techniques and scientific principles to extract valuable information from data for business decision-making, strategic planning and other uses. \n",
    "                It's increasingly critical to businesses: The insights that data science generates help organizations increase operational efficiency, identify new business opportunities and improve marketing and sales programs, among other benefits.\n",
    "                Ultimately, they can lead to competitive advantages over business rivals.\n",
    "                Data science incorporates various disciplines -- for example, data engineering, data preparation, data mining, predictive analytics, machine learning and data visualization, as well as statistics, mathematics and software programming. \n",
    "                It's primarily done by skilled data scientists, although lower-level data analysts may also be involved. \n",
    "                In addition, many organizations now rely partly on citizen data scientists, a group that can include business intelligence (BI) professionals, business analysts, data-savvy business users, data engineers and other workers who don't have a formal data science background.\n",
    "                This comprehensive guide to data science further explains what it is, why it's important to organizations, how it works, the business benefits it provides and the challenges it poses. \n",
    "                You'll also find an overview of data science applications, tools and techniques, plus information on what data scientists do and the skills they need. Throughout the guide, there are hyperlinks to related TechTarget articles that delve more deeply into the topics covered here and offer insight and expert advice on data science initiatives.\"\"\""
   ]
  },
  {
   "cell_type": "code",
   "execution_count": 3,
   "id": "41a6b7c4",
   "metadata": {},
   "outputs": [],
   "source": [
    "sentences = nltk.sent_tokenize(paragraph)\n",
    "words = nltk.word_tokenize(paragraph)"
   ]
  },
  {
   "cell_type": "markdown",
   "id": "629367ea",
   "metadata": {},
   "source": [
    "#### Stemming"
   ]
  },
  {
   "cell_type": "code",
   "execution_count": 4,
   "id": "76a08b19",
   "metadata": {},
   "outputs": [],
   "source": [
    "from nltk import PorterStemmer\n",
    "from nltk.corpus import stopwords"
   ]
  },
  {
   "cell_type": "code",
   "execution_count": 5,
   "id": "eb88d2e1",
   "metadata": {
    "scrolled": true
   },
   "outputs": [],
   "source": [
    "stopwords_set = set(stopwords.words('english'))"
   ]
  },
  {
   "cell_type": "code",
   "execution_count": 6,
   "id": "29e82a04",
   "metadata": {},
   "outputs": [
    {
     "data": {
      "text/plain": [
       "list"
      ]
     },
     "execution_count": 6,
     "metadata": {},
     "output_type": "execute_result"
    }
   ],
   "source": [
    "type(sentences)"
   ]
  },
  {
   "cell_type": "code",
   "execution_count": 7,
   "id": "eedf254c",
   "metadata": {},
   "outputs": [],
   "source": [
    "stemmer = PorterStemmer()\n",
    "\n",
    "for i in range(len(sentences)):\n",
    "    words = nltk.word_tokenize(sentences[i])\n",
    "    words = [stemmer.stem(word) for word in words if word not in stopwords_set]\n",
    "    sentences[i] = \" \".join(words)"
   ]
  },
  {
   "cell_type": "code",
   "execution_count": 8,
   "id": "7aef7c93",
   "metadata": {},
   "outputs": [
    {
     "name": "stdout",
     "output_type": "stream",
     "text": [
      "data scienc field appli advanc analyt techniqu scientif principl extract valuabl inform data busi decision-mak , strateg plan use .\n",
      "it 's increasingli critic busi : the insight data scienc gener help organ increas oper effici , identifi new busi opportun improv market sale program , among benefit .\n",
      "ultim , lead competit advantag busi rival .\n",
      "data scienc incorpor variou disciplin -- exampl , data engin , data prepar , data mine , predict analyt , machin learn data visual , well statist , mathemat softwar program .\n",
      "it 's primarili done skill data scientist , although lower-level data analyst may also involv .\n",
      "in addit , mani organ reli partli citizen data scientist , group includ busi intellig ( bi ) profession , busi analyst , data-savvi busi user , data engin worker n't formal data scienc background .\n",
      "thi comprehens guid data scienc explain , 's import organ , work , busi benefit provid challeng pose .\n",
      "you 'll also find overview data scienc applic , tool techniqu , plu inform data scientist skill need .\n",
      "throughout guid , hyperlink relat techtarget articl delv deepli topic cover offer insight expert advic data scienc initi .\n"
     ]
    }
   ],
   "source": [
    "for i in range(len(sentences)):\n",
    "    print(sentences[i])"
   ]
  },
  {
   "cell_type": "markdown",
   "id": "1d780e08",
   "metadata": {},
   "source": [
    "#### lemmetization"
   ]
  },
  {
   "cell_type": "code",
   "execution_count": 9,
   "id": "d08ca60f",
   "metadata": {},
   "outputs": [],
   "source": [
    "from nltk.stem import WordNetLemmatizer\n",
    "\n",
    "lemmetizer = WordNetLemmatizer()"
   ]
  },
  {
   "cell_type": "code",
   "execution_count": 10,
   "id": "dac96fd5",
   "metadata": {},
   "outputs": [],
   "source": [
    "sentences_l = nltk.sent_tokenize(paragraph)"
   ]
  },
  {
   "cell_type": "code",
   "execution_count": 11,
   "id": "93b30fe0",
   "metadata": {},
   "outputs": [],
   "source": [
    "for i in range(len(sentences_l)):\n",
    "    words = nltk.word_tokenize(sentences_l[i])\n",
    "    words = [lemmetizer.lemmatize(word) for word in words if word not in stopwords_set]\n",
    "    sentences_l[i] = \" \".join(words)"
   ]
  },
  {
   "cell_type": "code",
   "execution_count": 12,
   "id": "3cb91919",
   "metadata": {},
   "outputs": [
    {
     "name": "stdout",
     "output_type": "stream",
     "text": [
      "Data science field applying advanced analytics technique scientific principle extract valuable information data business decision-making , strategic planning us .\n",
      "It 's increasingly critical business : The insight data science generates help organization increase operational efficiency , identify new business opportunity improve marketing sale program , among benefit .\n",
      "Ultimately , lead competitive advantage business rival .\n",
      "Data science incorporates various discipline -- example , data engineering , data preparation , data mining , predictive analytics , machine learning data visualization , well statistic , mathematics software programming .\n",
      "It 's primarily done skilled data scientist , although lower-level data analyst may also involved .\n",
      "In addition , many organization rely partly citizen data scientist , group include business intelligence ( BI ) professional , business analyst , data-savvy business user , data engineer worker n't formal data science background .\n",
      "This comprehensive guide data science explains , 's important organization , work , business benefit provides challenge pose .\n",
      "You 'll also find overview data science application , tool technique , plus information data scientist skill need .\n",
      "Throughout guide , hyperlink related TechTarget article delve deeply topic covered offer insight expert advice data science initiative .\n"
     ]
    }
   ],
   "source": [
    "for i in range(len(sentences_l)):\n",
    "    print(sentences_l[i])"
   ]
  },
  {
   "cell_type": "markdown",
   "id": "209b2bd3",
   "metadata": {},
   "source": [
    "#### Bag of words"
   ]
  },
  {
   "cell_type": "markdown",
   "id": "219fb14d",
   "metadata": {},
   "source": [
    "-- we will do it from the starting"
   ]
  },
  {
   "cell_type": "code",
   "execution_count": 33,
   "id": "2f37e48a",
   "metadata": {},
   "outputs": [],
   "source": [
    "import re\n",
    "corpus=[]\n",
    "main = nltk.sent_tokenize(paragraph)\n",
    "# we will perform lemmetization over here because it will gave us the exact base word\n",
    "for i in range(len(main)):\n",
    "    review = re.sub('[^a-zA-Z]',' ',main[i])\n",
    "    review = review.lower()\n",
    "#    print(review)\n",
    "    review = review.split()\n",
    "    review = [lemmetizer.lemmatize(word) for word in review if not word in stopwords_set]\n",
    "    review = ' '.join(review)\n",
    "    corpus.append(review)"
   ]
  },
  {
   "cell_type": "code",
   "execution_count": 34,
   "id": "849ad90a",
   "metadata": {},
   "outputs": [],
   "source": [
    "from sklearn.feature_extraction.text import CountVectorizer\n",
    "countvect = CountVectorizer()\n",
    "X = countvect.fit_transform(corpus).toarray()"
   ]
  },
  {
   "cell_type": "code",
   "execution_count": 37,
   "id": "3f5fb1df",
   "metadata": {},
   "outputs": [
    {
     "data": {
      "text/plain": [
       "(9, 112)"
      ]
     },
     "execution_count": 37,
     "metadata": {},
     "output_type": "execute_result"
    }
   ],
   "source": [
    "X.shape"
   ]
  },
  {
   "cell_type": "code",
   "execution_count": null,
   "id": "ce9ce085",
   "metadata": {},
   "outputs": [],
   "source": []
  }
 ],
 "metadata": {
  "kernelspec": {
   "display_name": "Python 3 (ipykernel)",
   "language": "python",
   "name": "python3"
  },
  "language_info": {
   "codemirror_mode": {
    "name": "ipython",
    "version": 3
   },
   "file_extension": ".py",
   "mimetype": "text/x-python",
   "name": "python",
   "nbconvert_exporter": "python",
   "pygments_lexer": "ipython3",
   "version": "3.9.7"
  }
 },
 "nbformat": 4,
 "nbformat_minor": 5
}
